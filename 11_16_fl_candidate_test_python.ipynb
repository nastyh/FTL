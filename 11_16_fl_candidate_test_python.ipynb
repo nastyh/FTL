{
 "cells": [
  {
   "cell_type": "markdown",
   "metadata": {},
   "source": [
    "# Foot Locker Candidate Questions - Python\n",
    "\n",
    "**Candidate Name:** *Michael Kareev*\n",
    "\n",
    "**Date Completed:** 11/19/2018**\n",
    "\n",
    "Congratulations on making it to this stage of the interview process!  For the next step of your candidacy, you will be asked to solve five unique problems; each one focuses on a distinct data science skill such as data access, data transformation, hypothesis testing, model evaluation, and lastly, you will be asked to interpret a report and make a recommendation.  You are free to use whatever languages and tools you choose for this assignment, but all code and derived data must be included in your final submission. Document formats such as `.ipynb`, `.rmd`, `.html`, and `.docx` are acceptable for submission. \n",
    "\n",
    "We are going to try and run your code, so if it references obscure libraries, please indicate this as well as how to locate/install them.  You need to be sure you do what the core task indicates; but, you should feel free to use novel and ingenious approaches. We do not want you to spend money for any API usage or external service; the project is expected to be completed within the free tier of any service. Based on the feedback from other candidates we also expect that the challenge should *not take more than two hours* to complete.\n",
    "\n",
    "An evaluation rubric is not provided, but some of the things we will look at are:\n",
    "\n",
    "1. **Completeness** and **correctness** of the project and codebase.\n",
    "2. **Robustness** and **clarity** of the documentation included with the submission \n",
    "3. **Language selection** and **library dependency** appropriateness.\n",
    "4. **Sophistication** and **ingenuity** in thinking and approach.\n",
    "\n",
    "Each question also contains a bonus question at the end; this part is entirely optional, and a few sentence summary is sufficient.  \n",
    "\n",
    "*Hint:* Clarity means articulating the approach and results cleanly and concisely.  *Overly verbose code and responses can be detrimental to your score*.\n",
    "\n",
    "When you have completed the challenge, email your results to the email address you received this packet from.\n",
    "\n",
    ">**Notice of Confidentiality:** This document, scenario, and data are proprietary to Foot Locker, Inc. And cannot be copied or distributed without the expressed written permission by Foot Locker, Inc. Failure to adhere to this notice of confidentiality will result in the immediate termination of the candidate's application and could result in legal action."
   ]
  },
  {
   "cell_type": "markdown",
   "metadata": {},
   "source": [
    "## Question One: Data Access\n",
    "\n",
    "An often encountered step to data pre-processing usually involves querying data that exists within a relational database system. Typically such data may be transactional in nature, and as a result, it is optimized for a relational data model. While this format is critical for performance, efficient storage, and quick updates, it is often not suitable for data science work. In this next question, you will be asked to access data from a fictitious relational database and perform query operations to get it into a suitable format for analysis. The required output for this question is the correct SQL code and query results, you may use any dialect of SQL you wish, but submissions in any other language will be considered incorrect.\n",
    "\n",
    "You have been granted access to a database that contains two tables; `Order_Detail` and `Product_Detail` that are stored in a relational format.  `Order_Detail` contains transactional information and possesses the following schema:\n",
    "\n",
    "#### Table Order_Detail Schema\n",
    "\n",
    "> **invoice_id:** The unique id for each transaction.\n",
    ">\n",
    "> **invoice_line:** A unique id for each item sold with each transaction (ie, multiple items can be purchased with each invoice.)\n",
    ">\n",
    "> **store_id:** The store where transaction took place.\n",
    ">\n",
    "> **time_stamp:** The date of the purchase.\n",
    ">\n",
    "> **product:** The unique id for the product sold within the transaction (every product sold has a unique product id.)\n",
    ">\n",
    "> **units:** The number of the products sold with the transaction (ie, you could purchase 2 of the same item.)\n",
    ">\n",
    "> **sales:** The gross sales for the item sold.\n",
    ">\n",
    "> **cogs:** The cost of the item sold (i.e. not the cost to the customer, but the cost to the business for the product.)\n",
    "\n",
    "| invoice_id | invoice_line | store_id | time_stamp | product | units | sales  | cogs  | \n",
    "|------------|--------------|----------|------------|---------|-------|--------|-------| \n",
    "| 10000001   | 31215        | 3        | 9/3/17     | 3000    | 1     | 99.99  | 58.00 | \n",
    "| 10000001   | 31216        | 3        | 9/3/17     | 3354H   | 3     | 32.99  | 18.00 | \n",
    "| 10000002   | 91455        | 1        | 9/5/17     | 1234    | 2     | 24.99  | 20.00 | \n",
    "| 10000003   | 59943        | 2        | 9/5/17     | 3000    | 1     | 19.99  | 14.99 | \n",
    "| 10000004   | 95027        | 2        | 9/5/17     | 18518   | 1     | 9.99   | 3.00  | \n",
    "| 10000005   | 73994        | 2        | 9/5/17     | 12HA12  | 15    | 3.99   | 1.99  | \n",
    "| 10000006   | 98464        | 1        | 10/1/17    | wh30000 | 1     | 199.99 | 75.00 | \n",
    "\n",
    "\n",
    "#### Table Product_Detail Schema\n",
    "> **product:** The unique id for the product sold within the transaction (every product sold has a unique product id.)\n",
    ">\n",
    "> **cat_name:** The listed name for a given product category.\n",
    ">\n",
    "> **key_internal:** No documentation exists for this field. \n",
    "\n",
    "| product | cat_name | key_internal|\n",
    "|---------|--------- |  ---------  |\n",
    "| 3000    | WidgetA  |  17375273   |\n",
    "| 3354H   | WidgetB  |  15477787   |\n",
    "| 1234    | WidgetC  |  97845235   |\n",
    "| 18518   | WidgetD  |  47813334   |\n",
    "| 12HA12  | WidgetD  |  48573988   |\n",
    "| wh30000 | WidgetE  |  00000000   |\n",
    "\n",
    "Your task is to construct a single SQL query that returns the following results:\n",
    "\n",
    "> Summarized total sales, total quantity sold, and total profit (which can be calculated as total sales less cogs) by the week number, store id, product category name.  It is important to note that in this business, the week begins on a *Tuesday*.  \n",
    "\n",
    "*Hint:*  The week number is the week portion of a date value, from 0 to 53. \n",
    "\n",
    "*Bonus Question:* How would you use Python to access this data and perform these operations?"
   ]
  },
  {
   "cell_type": "markdown",
   "metadata": {},
   "source": [
    "The following SQL code has been provided if you choose to create these tables in a test database.\n",
    "\n",
    "```sql\n",
    "--clean up existing tables\n",
    "DROP TABLE IF EXISTS Order_Detail;\n",
    "DROP TABLE IF EXISTS Product_Detail;\n",
    "\n",
    "--create order table and populate records\n",
    "CREATE TABLE IF NOT EXISTS Order_Detail (\n",
    "    invoice_id INTEGER NOT NULL,\n",
    "    invoice_line INTEGER NOT NULL,\n",
    "    store_id INTEGER NOT NULL,\n",
    "    time_stamp DATE NOT NULL,\n",
    "    product VARCHAR(8) NOT NULL,\n",
    "    units INTEGER NOT NULL,\n",
    "    sales NUMERIC(7 , 2 ) NOT NULL,\n",
    "    cogs NUMERIC(5 , 2 ) NOT NULL\n",
    ");\n",
    "\n",
    "INSERT INTO Order_Detail(invoice_id,invoice_line,store_id,time_stamp,product,units,sales,cogs) VALUES (10000001,31215,3,'2017/09/03','3000',1,99.99,58.00);\n",
    "INSERT INTO Order_Detail(invoice_id,invoice_line,store_id,time_stamp,product,units,sales,cogs) VALUES (10000001,31216,3,'2017/09/03','3354H',3,32.99,18.00);\n",
    "INSERT INTO Order_Detail(invoice_id,invoice_line,store_id,time_stamp,product,units,sales,cogs) VALUES (10000002,91455,1,'2017/09/05','1234',2,24.99,20.00);\n",
    "INSERT INTO Order_Detail(invoice_id,invoice_line,store_id,time_stamp,product,units,sales,cogs) VALUES (10000003,59943,2,'2017/09/05','3000',1,19.99,14.99);\n",
    "INSERT INTO Order_Detail(invoice_id,invoice_line,store_id,time_stamp,product,units,sales,cogs) VALUES (10000004,95027,2,'2017/09/05','18518',1,9.99,3.00);\n",
    "INSERT INTO Order_Detail(invoice_id,invoice_line,store_id,time_stamp,product,units,sales,cogs) VALUES (10000005,73994,2,'2017/09/10','12HA12',15,3.99,1.99);\n",
    "INSERT INTO Order_Detail(invoice_id,invoice_line,store_id,time_stamp,product,units,sales,cogs) VALUES (10000006,98464,1,'2017/10/01','wh30000',1,199.99,75.00);\n",
    "\n",
    "--create product table and populate records\n",
    "CREATE TABLE IF NOT EXISTS Product_Detail (\n",
    "    product VARCHAR(8) NOT NULL,\n",
    "    cat_name VARCHAR(8) NOT NULL,\n",
    "    key_interal VARCHAR(8) NOT NULL\n",
    ");\n",
    "\n",
    "INSERT INTO Product_Detail(product,cat_name,key_interal) VALUES ('3000','WidgetA','17375273');\n",
    "INSERT INTO Product_Detail(product,cat_name,key_interal) VALUES ('3354H','WidgetB','15477787');\n",
    "INSERT INTO Product_Detail(product,cat_name,key_interal) VALUES ('1234','WidgetC','97845235');\n",
    "INSERT INTO Product_Detail(product,cat_name,key_interal) VALUES ('18518','WidgetD','47813334');\n",
    "INSERT INTO Product_Detail(product,cat_name,key_interal) VALUES ('12HA12','WidgetD','48573988');\n",
    "INSERT INTO Product_Detail(product,cat_name,key_interal) VALUES ('wh30000','WidgetE','00000000');\n",
    "```"
   ]
  },
  {
   "cell_type": "code",
   "execution_count": 1,
   "metadata": {},
   "outputs": [],
   "source": [
    "#Answer to question one goes here"
   ]
  },
  {
   "cell_type": "markdown",
   "metadata": {},
   "source": [
    "## Question Two: Data Transformation\n",
    "\n",
    "Another common task is to take data that may not be in a usable format and 'wrangle' it into a better representation.  This next question will test your ability to clean and order data.\n",
    "\n",
    "You have been presented with two dataframes: \n",
    "\n",
    "#### Dataframe A: Product Attributes\n",
    "This dataframe contains two columns; the first one is a unique product ID represented by an integer, the second is a string containing a collection of attributes assigned to that product.  \n",
    "\n",
    "| product | tags                 |\n",
    "|---------|----------------------|\n",
    "| 100     | chocolate, sprinkles |\n",
    "| 101     | chocolate, filled    |\n",
    "| 102     | glazed               |\n",
    "\n",
    "\n",
    "#### Dataframe B: Purchase History\n",
    "The second dataframe contains two columns as well; the first one is a string that contains a customer name, the second is an integer that contains a product number.  The product IDs from column two are the same as the product IDs from column one of dataframe A.\n",
    "\n",
    "| customer | product |\n",
    "|----------|---------|\n",
    "| A        | 100     |\n",
    "| A        | 101     |\n",
    "| B        | 101     |\n",
    "| C        | 100     |\n",
    "| C        | 102     |\n",
    "| B        | 101     |\n",
    "| A        | 100     |\n",
    "| C        | 102     |\n",
    "\n",
    "You are asked to create a dataframe matching this format, where the contents of the cells represent the count of occurrences of product attribute by customer.  \n",
    "\n",
    "| customer | chocolate | sprinkles | filled | glazed |\n",
    "|----------|-----------|-----------|--------|--------|\n",
    "| A        | ?         | ?         | ?      | ?      |\n",
    "| B        | ?         | ?         | ?      | ?      |\n",
    "| C        | ?         | ?         | ?      | ?      |\n",
    "\n",
    "\n",
    "After you have completed your code, evaluate it for performance bottlenecks and describe how you would improve the code.  \n",
    "\n",
    "*Bonus Question:* If the two starting tables were in a relational database or Hadoop cluster and each had a 100 million rows, how might your approach change?"
   ]
  },
  {
   "cell_type": "code",
   "execution_count": 95,
   "metadata": {},
   "outputs": [],
   "source": [
    "import pandas as pd\n",
    "\n",
    "tableA = [(100, 'chocolate, sprinkles'),\n",
    "         (101, 'chocolate, filled'),\n",
    "         (102, 'glazed')]\n",
    "labels = ['product', 'tags']\n",
    "dfA = pd.DataFrame.from_records(tableA, columns=labels)\n",
    "\n",
    "tableB = [('A', 100),\n",
    "           ('A', 101),\n",
    "           ('B', 101),\n",
    "           ('C', 100),\n",
    "           ('C', 102),\n",
    "           ('B', 101),\n",
    "           ('A', 100),\n",
    "           ('C', 102)]\n",
    "labels = ['customer', 'product']\n",
    "dfB = pd.DataFrame.from_records(tableB, columns=labels)"
   ]
  },
  {
   "cell_type": "code",
   "execution_count": 4,
   "metadata": {},
   "outputs": [],
   "source": [
    "    #Answer to question two goes here\n",
    "import pandas as pd\n",
    "from collections import Counter"
   ]
  },
  {
   "cell_type": "code",
   "execution_count": 5,
   "metadata": {},
   "outputs": [
    {
     "data": {
      "text/html": [
       "<div>\n",
       "<style scoped>\n",
       "    .dataframe tbody tr th:only-of-type {\n",
       "        vertical-align: middle;\n",
       "    }\n",
       "\n",
       "    .dataframe tbody tr th {\n",
       "        vertical-align: top;\n",
       "    }\n",
       "\n",
       "    .dataframe thead th {\n",
       "        text-align: right;\n",
       "    }\n",
       "</style>\n",
       "<table border=\"1\" class=\"dataframe\">\n",
       "  <thead>\n",
       "    <tr style=\"text-align: right;\">\n",
       "      <th></th>\n",
       "      <th>product</th>\n",
       "      <th>tags</th>\n",
       "    </tr>\n",
       "  </thead>\n",
       "  <tbody>\n",
       "    <tr>\n",
       "      <th>0</th>\n",
       "      <td>100</td>\n",
       "      <td>chocolate, sprinkles</td>\n",
       "    </tr>\n",
       "    <tr>\n",
       "      <th>1</th>\n",
       "      <td>101</td>\n",
       "      <td>chocolate, filled</td>\n",
       "    </tr>\n",
       "    <tr>\n",
       "      <th>2</th>\n",
       "      <td>102</td>\n",
       "      <td>glazed</td>\n",
       "    </tr>\n",
       "  </tbody>\n",
       "</table>\n",
       "</div>"
      ],
      "text/plain": [
       "   product                  tags\n",
       "0      100  chocolate, sprinkles\n",
       "1      101     chocolate, filled\n",
       "2      102                glazed"
      ]
     },
     "execution_count": 5,
     "metadata": {},
     "output_type": "execute_result"
    }
   ],
   "source": [
    "dfA"
   ]
  },
  {
   "cell_type": "code",
   "execution_count": 15,
   "metadata": {},
   "outputs": [
    {
     "data": {
      "text/plain": [
       "product       int64\n",
       "tags       category\n",
       "dtype: object"
      ]
     },
     "execution_count": 15,
     "metadata": {},
     "output_type": "execute_result"
    }
   ],
   "source": [
    "dfA.dtypes"
   ]
  },
  {
   "cell_type": "code",
   "execution_count": 17,
   "metadata": {},
   "outputs": [],
   "source": [
    "dfA['tags']=dfA['tags'].astype('category', copy=False)"
   ]
  },
  {
   "cell_type": "code",
   "execution_count": 18,
   "metadata": {},
   "outputs": [],
   "source": [
    "result = Counter(\", \".join(dfA['tags'].values.tolist()).split(\", \")).items()\n",
    "result"
   ]
  },
  {
   "cell_type": "code",
   "execution_count": 101,
   "metadata": {},
   "outputs": [],
   "source": [
    "#dfAa = dfA['tags'].str.split(', ',1, expand = True)\n",
    "dfAa=pd.concat([dfA,dfA['tags'].str.split(', ', expand=True)], axis=1).drop('tags', axis=1)"
   ]
  },
  {
   "cell_type": "code",
   "execution_count": 45,
   "metadata": {},
   "outputs": [
    {
     "ename": "ValueError",
     "evalue": "not enough values to unpack (expected 4, got 2)",
     "output_type": "error",
     "traceback": [
      "\u001b[1;31m---------------------------------------------------------------------------\u001b[0m",
      "\u001b[1;31mValueError\u001b[0m                                Traceback (most recent call last)",
      "\u001b[1;32m<ipython-input-45-cbdff0398868>\u001b[0m in \u001b[0;36m<module>\u001b[1;34m()\u001b[0m\n\u001b[1;32m----> 1\u001b[1;33m \u001b[0mdfA\u001b[0m\u001b[1;33m[\u001b[0m\u001b[1;34m'Chocolate'\u001b[0m\u001b[1;33m]\u001b[0m\u001b[1;33m,\u001b[0m \u001b[0mdfA\u001b[0m\u001b[1;33m[\u001b[0m\u001b[1;34m'Sprinkles'\u001b[0m\u001b[1;33m]\u001b[0m\u001b[1;33m,\u001b[0m \u001b[0mdfA\u001b[0m\u001b[1;33m[\u001b[0m\u001b[1;34m'Glazed'\u001b[0m\u001b[1;33m]\u001b[0m\u001b[1;33m,\u001b[0m \u001b[0mdfA\u001b[0m\u001b[1;33m[\u001b[0m\u001b[1;34m'Filled'\u001b[0m\u001b[1;33m]\u001b[0m \u001b[1;33m=\u001b[0m \u001b[0mdfA\u001b[0m\u001b[1;33m[\u001b[0m\u001b[1;34m'tags'\u001b[0m\u001b[1;33m]\u001b[0m\u001b[1;33m.\u001b[0m\u001b[0mstr\u001b[0m\u001b[1;33m.\u001b[0m\u001b[0msplit\u001b[0m\u001b[1;33m(\u001b[0m\u001b[1;34m', '\u001b[0m\u001b[1;33m)\u001b[0m\u001b[1;33m.\u001b[0m\u001b[0mstr\u001b[0m\u001b[1;33m\u001b[0m\u001b[0m\n\u001b[0m\u001b[0;32m      2\u001b[0m \u001b[1;31m#dfA['Chocolate'], dfA['Sprinkles'] = dfA['tags'].str.split(', ').str\u001b[0m\u001b[1;33m\u001b[0m\u001b[1;33m\u001b[0m\u001b[0m\n\u001b[0;32m      3\u001b[0m \u001b[1;31m#dfA[['Chocolate','Sprinkles','Glazed','Filled']] = dfA['tags'].str.split(expand=True)\u001b[0m\u001b[1;33m\u001b[0m\u001b[1;33m\u001b[0m\u001b[0m\n",
      "\u001b[1;31mValueError\u001b[0m: not enough values to unpack (expected 4, got 2)"
     ]
    }
   ],
   "source": [
    "dfA['Chocolate'], dfA['Sprinkles'], dfA['Glazed'], dfA['Filled'] = dfA['tags'].str.split(', ').str\n",
    "#dfA['Chocolate'], dfA['Sprinkles'] = dfA['tags'].str.split(', ').str\n",
    "#dfA[['Chocolate','Sprinkles','Glazed','Filled']] = dfA['tags'].str.split(expand=True)"
   ]
  },
  {
   "cell_type": "code",
   "execution_count": 69,
   "metadata": {},
   "outputs": [
    {
     "data": {
      "text/html": [
       "<div>\n",
       "<style scoped>\n",
       "    .dataframe tbody tr th:only-of-type {\n",
       "        vertical-align: middle;\n",
       "    }\n",
       "\n",
       "    .dataframe tbody tr th {\n",
       "        vertical-align: top;\n",
       "    }\n",
       "\n",
       "    .dataframe thead tr th {\n",
       "        text-align: left;\n",
       "    }\n",
       "\n",
       "    .dataframe thead tr:last-of-type th {\n",
       "        text-align: right;\n",
       "    }\n",
       "</style>\n",
       "<table border=\"1\" class=\"dataframe\">\n",
       "  <thead>\n",
       "    <tr>\n",
       "      <th></th>\n",
       "      <th colspan=\"3\" halign=\"left\">product</th>\n",
       "    </tr>\n",
       "    <tr>\n",
       "      <th>tags</th>\n",
       "      <th>chocolate, filled</th>\n",
       "      <th>chocolate, sprinkles</th>\n",
       "      <th>glazed</th>\n",
       "    </tr>\n",
       "    <tr>\n",
       "      <th>product</th>\n",
       "      <th></th>\n",
       "      <th></th>\n",
       "      <th></th>\n",
       "    </tr>\n",
       "  </thead>\n",
       "  <tbody>\n",
       "    <tr>\n",
       "      <th>100</th>\n",
       "      <td>0.0</td>\n",
       "      <td>1.0</td>\n",
       "      <td>0.0</td>\n",
       "    </tr>\n",
       "    <tr>\n",
       "      <th>101</th>\n",
       "      <td>1.0</td>\n",
       "      <td>0.0</td>\n",
       "      <td>0.0</td>\n",
       "    </tr>\n",
       "    <tr>\n",
       "      <th>102</th>\n",
       "      <td>0.0</td>\n",
       "      <td>0.0</td>\n",
       "      <td>1.0</td>\n",
       "    </tr>\n",
       "  </tbody>\n",
       "</table>\n",
       "</div>"
      ],
      "text/plain": [
       "                  product                            \n",
       "tags    chocolate, filled chocolate, sprinkles glazed\n",
       "product                                              \n",
       "100                   0.0                  1.0    0.0\n",
       "101                   1.0                  0.0    0.0\n",
       "102                   0.0                  0.0    1.0"
      ]
     },
     "execution_count": 69,
     "metadata": {},
     "output_type": "execute_result"
    }
   ],
   "source": [
    "dfA.pivot_table(index='product',columns='tags', aggfunc={'product':'count'}).fillna(0)"
   ]
  },
  {
   "cell_type": "code",
   "execution_count": 96,
   "metadata": {},
   "outputs": [],
   "source": [
    "merged = pd.merge(dfA,dfB,on='product')"
   ]
  },
  {
   "cell_type": "code",
   "execution_count": 111,
   "metadata": {},
   "outputs": [
    {
     "data": {
      "text/plain": [
       "product      int64\n",
       "tags        object\n",
       "customer    object\n",
       "dtype: object"
      ]
     },
     "execution_count": 111,
     "metadata": {},
     "output_type": "execute_result"
    }
   ],
   "source": [
    "merged.dtypes"
   ]
  },
  {
   "cell_type": "code",
   "execution_count": 116,
   "metadata": {},
   "outputs": [
    {
     "data": {
      "text/html": [
       "<div>\n",
       "<style scoped>\n",
       "    .dataframe tbody tr th:only-of-type {\n",
       "        vertical-align: middle;\n",
       "    }\n",
       "\n",
       "    .dataframe tbody tr th {\n",
       "        vertical-align: top;\n",
       "    }\n",
       "\n",
       "    .dataframe thead th {\n",
       "        text-align: right;\n",
       "    }\n",
       "</style>\n",
       "<table border=\"1\" class=\"dataframe\">\n",
       "  <thead>\n",
       "    <tr style=\"text-align: right;\">\n",
       "      <th></th>\n",
       "      <th>product</th>\n",
       "      <th>tags</th>\n",
       "      <th>customer</th>\n",
       "    </tr>\n",
       "  </thead>\n",
       "  <tbody>\n",
       "    <tr>\n",
       "      <th>0</th>\n",
       "      <td>100</td>\n",
       "      <td>chocolate, sprinkles</td>\n",
       "      <td>A</td>\n",
       "    </tr>\n",
       "    <tr>\n",
       "      <th>1</th>\n",
       "      <td>100</td>\n",
       "      <td>chocolate, sprinkles</td>\n",
       "      <td>C</td>\n",
       "    </tr>\n",
       "    <tr>\n",
       "      <th>2</th>\n",
       "      <td>100</td>\n",
       "      <td>chocolate, sprinkles</td>\n",
       "      <td>A</td>\n",
       "    </tr>\n",
       "    <tr>\n",
       "      <th>3</th>\n",
       "      <td>101</td>\n",
       "      <td>chocolate, filled</td>\n",
       "      <td>A</td>\n",
       "    </tr>\n",
       "    <tr>\n",
       "      <th>4</th>\n",
       "      <td>101</td>\n",
       "      <td>chocolate, filled</td>\n",
       "      <td>B</td>\n",
       "    </tr>\n",
       "    <tr>\n",
       "      <th>5</th>\n",
       "      <td>101</td>\n",
       "      <td>chocolate, filled</td>\n",
       "      <td>B</td>\n",
       "    </tr>\n",
       "    <tr>\n",
       "      <th>6</th>\n",
       "      <td>102</td>\n",
       "      <td>glazed</td>\n",
       "      <td>C</td>\n",
       "    </tr>\n",
       "    <tr>\n",
       "      <th>7</th>\n",
       "      <td>102</td>\n",
       "      <td>glazed</td>\n",
       "      <td>C</td>\n",
       "    </tr>\n",
       "  </tbody>\n",
       "</table>\n",
       "</div>"
      ],
      "text/plain": [
       "   product                  tags customer\n",
       "0      100  chocolate, sprinkles        A\n",
       "1      100  chocolate, sprinkles        C\n",
       "2      100  chocolate, sprinkles        A\n",
       "3      101     chocolate, filled        A\n",
       "4      101     chocolate, filled        B\n",
       "5      101     chocolate, filled        B\n",
       "6      102                glazed        C\n",
       "7      102                glazed        C"
      ]
     },
     "execution_count": 116,
     "metadata": {},
     "output_type": "execute_result"
    }
   ],
   "source": [
    "merged"
   ]
  },
  {
   "cell_type": "code",
   "execution_count": 118,
   "metadata": {},
   "outputs": [
    {
     "data": {
      "text/html": [
       "<div>\n",
       "<style scoped>\n",
       "    .dataframe tbody tr th:only-of-type {\n",
       "        vertical-align: middle;\n",
       "    }\n",
       "\n",
       "    .dataframe tbody tr th {\n",
       "        vertical-align: top;\n",
       "    }\n",
       "\n",
       "    .dataframe thead th {\n",
       "        text-align: right;\n",
       "    }\n",
       "</style>\n",
       "<table border=\"1\" class=\"dataframe\">\n",
       "  <thead>\n",
       "    <tr style=\"text-align: right;\">\n",
       "      <th></th>\n",
       "      <th>0</th>\n",
       "      <th>1</th>\n",
       "    </tr>\n",
       "  </thead>\n",
       "  <tbody>\n",
       "    <tr>\n",
       "      <th>0</th>\n",
       "      <td>chocolate</td>\n",
       "      <td>sprinkles</td>\n",
       "    </tr>\n",
       "    <tr>\n",
       "      <th>1</th>\n",
       "      <td>chocolate</td>\n",
       "      <td>sprinkles</td>\n",
       "    </tr>\n",
       "    <tr>\n",
       "      <th>2</th>\n",
       "      <td>chocolate</td>\n",
       "      <td>sprinkles</td>\n",
       "    </tr>\n",
       "    <tr>\n",
       "      <th>3</th>\n",
       "      <td>chocolate</td>\n",
       "      <td>filled</td>\n",
       "    </tr>\n",
       "    <tr>\n",
       "      <th>4</th>\n",
       "      <td>chocolate</td>\n",
       "      <td>filled</td>\n",
       "    </tr>\n",
       "    <tr>\n",
       "      <th>5</th>\n",
       "      <td>chocolate</td>\n",
       "      <td>filled</td>\n",
       "    </tr>\n",
       "    <tr>\n",
       "      <th>6</th>\n",
       "      <td>glazed</td>\n",
       "      <td>None</td>\n",
       "    </tr>\n",
       "    <tr>\n",
       "      <th>7</th>\n",
       "      <td>glazed</td>\n",
       "      <td>None</td>\n",
       "    </tr>\n",
       "  </tbody>\n",
       "</table>\n",
       "</div>"
      ],
      "text/plain": [
       "           0          1\n",
       "0  chocolate  sprinkles\n",
       "1  chocolate  sprinkles\n",
       "2  chocolate  sprinkles\n",
       "3  chocolate     filled\n",
       "4  chocolate     filled\n",
       "5  chocolate     filled\n",
       "6     glazed       None\n",
       "7     glazed       None"
      ]
     },
     "execution_count": 118,
     "metadata": {},
     "output_type": "execute_result"
    }
   ],
   "source": [
    "merged['tags'].str.split(', ', expand=True)"
   ]
  },
  {
   "cell_type": "code",
   "execution_count": 122,
   "metadata": {},
   "outputs": [
    {
     "data": {
      "text/html": [
       "<div>\n",
       "<style scoped>\n",
       "    .dataframe tbody tr th:only-of-type {\n",
       "        vertical-align: middle;\n",
       "    }\n",
       "\n",
       "    .dataframe tbody tr th {\n",
       "        vertical-align: top;\n",
       "    }\n",
       "\n",
       "    .dataframe thead tr th {\n",
       "        text-align: left;\n",
       "    }\n",
       "\n",
       "    .dataframe thead tr:last-of-type th {\n",
       "        text-align: right;\n",
       "    }\n",
       "</style>\n",
       "<table border=\"1\" class=\"dataframe\">\n",
       "  <thead>\n",
       "    <tr>\n",
       "      <th></th>\n",
       "      <th colspan=\"3\" halign=\"left\">A</th>\n",
       "      <th colspan=\"3\" halign=\"left\">B</th>\n",
       "      <th colspan=\"3\" halign=\"left\">product</th>\n",
       "    </tr>\n",
       "    <tr>\n",
       "      <th>tags</th>\n",
       "      <th>chocolate, filled</th>\n",
       "      <th>chocolate, sprinkles</th>\n",
       "      <th>glazed</th>\n",
       "      <th>chocolate, filled</th>\n",
       "      <th>chocolate, sprinkles</th>\n",
       "      <th>glazed</th>\n",
       "      <th>chocolate, filled</th>\n",
       "      <th>chocolate, sprinkles</th>\n",
       "      <th>glazed</th>\n",
       "    </tr>\n",
       "    <tr>\n",
       "      <th>customer</th>\n",
       "      <th></th>\n",
       "      <th></th>\n",
       "      <th></th>\n",
       "      <th></th>\n",
       "      <th></th>\n",
       "      <th></th>\n",
       "      <th></th>\n",
       "      <th></th>\n",
       "      <th></th>\n",
       "    </tr>\n",
       "  </thead>\n",
       "  <tbody>\n",
       "    <tr>\n",
       "      <th>A</th>\n",
       "      <td>1</td>\n",
       "      <td>2</td>\n",
       "      <td>0</td>\n",
       "      <td>1</td>\n",
       "      <td>2</td>\n",
       "      <td>0</td>\n",
       "      <td>1</td>\n",
       "      <td>2</td>\n",
       "      <td>0</td>\n",
       "    </tr>\n",
       "    <tr>\n",
       "      <th>B</th>\n",
       "      <td>2</td>\n",
       "      <td>0</td>\n",
       "      <td>0</td>\n",
       "      <td>2</td>\n",
       "      <td>0</td>\n",
       "      <td>0</td>\n",
       "      <td>2</td>\n",
       "      <td>0</td>\n",
       "      <td>0</td>\n",
       "    </tr>\n",
       "    <tr>\n",
       "      <th>C</th>\n",
       "      <td>0</td>\n",
       "      <td>1</td>\n",
       "      <td>2</td>\n",
       "      <td>0</td>\n",
       "      <td>1</td>\n",
       "      <td>0</td>\n",
       "      <td>0</td>\n",
       "      <td>1</td>\n",
       "      <td>2</td>\n",
       "    </tr>\n",
       "  </tbody>\n",
       "</table>\n",
       "</div>"
      ],
      "text/plain": [
       "                         A                                             B  \\\n",
       "tags     chocolate, filled chocolate, sprinkles glazed chocolate, filled   \n",
       "customer                                                                   \n",
       "A                        1                    2      0                 1   \n",
       "B                        2                    0      0                 2   \n",
       "C                        0                    1      2                 0   \n",
       "\n",
       "                                               product                       \\\n",
       "tags     chocolate, sprinkles glazed chocolate, filled chocolate, sprinkles   \n",
       "customer                                                                      \n",
       "A                           2      0                 1                    2   \n",
       "B                           0      0                 2                    0   \n",
       "C                           1      0                 0                    1   \n",
       "\n",
       "                 \n",
       "tags     glazed  \n",
       "customer         \n",
       "A             0  \n",
       "B             0  \n",
       "C             2  "
      ]
     },
     "execution_count": 122,
     "metadata": {},
     "output_type": "execute_result"
    }
   ],
   "source": [
    "#merged['A'], merged['B'] = merged['tags'].str.split(', ', 1).str\n",
    "# split Brands into multiple columns\n",
    "dfC = pd.concat([dfA['product'], dfA['tags'].str.split(', ', expand=True)], axis=1)\n",
    "\n",
    "# convert multiple columns to records using pd.melt\n",
    "dfC = pd.melt(dfC, 'product', var_name='Col', value_name='tags').reset_index().drop(columns=['index', 'Col'])\n",
    "\n",
    "# merge together frames A & B\n",
    "merged1 = dfB.merge(dfC, on='product')\n",
    "\n",
    "# pivot data\n",
    "pd.pivot_table(merged, index='customer', columns='tags', aggfunc='count', fill_value=0)"
   ]
  },
  {
   "cell_type": "code",
   "execution_count": null,
   "metadata": {},
   "outputs": [],
   "source": [
    "pd.DataFrame(merged.tags.values.tolist())"
   ]
  },
  {
   "cell_type": "markdown",
   "metadata": {},
   "source": [
    "## Question Three: Hypothesis Testing\n",
    "This question will test your statistical and reasoning abilities.  You have been asked to analyze the results of a randomized, controlled experiment on a fictitious website and provide a recommendation.  For this experiment, each visitor to the site is randomly exposed to one of four different product images; visitors are then tracked to see which ones make a purchase or not.  Based on the data provided, which version of the image should be selected to be presented to all visitors and why?\n",
    "\n",
    "| image | visitors | purchases \n",
    "|----------|-----------|----------|\n",
    "| A        | 21        | 3        | \n",
    "| B        | 180       | 30       | \n",
    "| C        | 250       | 50       | \n",
    "| D        | 100       | 15       | \n",
    "\n",
    "*Bonus Question:* How would your analysis change if the visitors and purchase counts numbered in the millions? "
   ]
  },
  {
   "cell_type": "code",
   "execution_count": 8,
   "metadata": {},
   "outputs": [],
   "source": [
    "#Answer to question three goes here"
   ]
  },
  {
   "cell_type": "markdown",
   "metadata": {},
   "source": [
    "## Question Four: Forecasting\n",
    "\n",
    "For this question, you will be provided with data related to the count of website sessions by day for the past one hundred days.  You are now asked to create a forecast for the next sixty days using this data.  "
   ]
  },
  {
   "cell_type": "code",
   "execution_count": 46,
   "metadata": {},
   "outputs": [],
   "source": [
    "sessionData = {'date': [\"1/1/17\",\"1/2/17\",\"1/3/17\",\"1/4/17\",\"1/5/17\",\"1/6/17\",\"1/7/17\",\"1/8/17\",\"1/9/17\",\"1/10/17\",\n",
    "\"1/11/17\",\"1/12/17\",\"1/13/17\",\"1/14/17\",\"1/15/17\",\"1/16/17\",\"1/17/17\",\"1/18/17\",\"1/19/17\",\"1/20/17\",\n",
    "\"1/21/17\",\"1/22/17\",\"1/23/17\",\"1/24/17\",\"1/25/17\",\"1/26/17\",\"1/27/17\",\"1/28/17\",\"1/29/17\",\"1/30/17\",\n",
    "\"1/31/17\",\"2/1/17\",\"2/2/17\",\"2/3/17\",\"2/4/17\",\"2/5/17\",\"2/6/17\",\"2/7/17\",\"2/8/17\",\"2/9/17\",\"2/10/17\",\n",
    "\"2/11/17\",\"2/12/17\",\"2/13/17\",\"2/14/17\",\"2/15/17\",\"2/16/17\",\"2/17/17\",\"2/18/17\",\"2/19/17\",\"2/20/17\",\n",
    "\"2/21/17\",\"2/22/17\",\"2/23/17\",\"2/24/17\",\"2/25/17\",\"2/26/17\",\"2/27/17\",\"2/28/17\",\"3/1/17\",\"3/2/17\",\"3/3/17\",\n",
    "\"3/4/17\",\"3/5/17\",\"3/6/17\",\"3/7/17\",\"3/8/17\",\"3/9/17\",\"3/10/17\",\"3/11/17\",\"3/12/17\",\"3/13/17\",\"3/14/17\",\n",
    "\"3/15/17\",\"3/16/17\",\"3/17/17\",\"3/18/17\",\"3/19/17\",\"3/20/17\",\"3/21/17\",\"3/22/17\",\"3/23/17\",\"3/24/17\",\n",
    "\"3/25/17\",\"3/26/17\",\"3/27/17\",\"3/28/17\",\"3/29/17\",\"3/30/17\",\"3/31/17\",\"4/1/17\",\"4/2/17\",\"4/3/17\",\n",
    "\"4/4/17\",\"4/5/17\",\"4/6/17\",\"4/7/17\",\"4/8/17\",\"4/9/17\",\"4/10/17\"],\n",
    "     'sessions': [88215,88484,87877,86780,84622,84607,84362,84912,84367,85991,86562,86761,85735,85386,84023,\n",
    "83504,83795,85127,84971,86433,88094,89120,89184,90188,88540,88693,88031,86601,87447,87716,87042,87039,\n",
    "86197,84339,85095,84764,83386,82621,83256,82997,84614,84480,86006,86436,85711,84115,83612,84812,85036,\n",
    "84844,83745,85598,84914,85813,86634,86995,88356,87731,89142,90383,90686,93692,93800,93502,93786,92292,\n",
    "91104,90193,90341,89314,88861,88853,89992,90246,90968,89741,88718,88335,87898,87666,88600,90110,90401,\n",
    "90370,90346,89691,90643,90489,91289,89290,88668,89804,88989,89976,88239,87444,86951,85434,85655,\n",
    "85105]}\n",
    "\n",
    "sessionsDf = pd.DataFrame(data = sessionData)"
   ]
  },
  {
   "cell_type": "code",
   "execution_count": 49,
   "metadata": {},
   "outputs": [],
   "source": [
    "#Answer to question four goes here\n",
    "from pandas import Series\n",
    "from matplotlib import pyplot"
   ]
  },
  {
   "cell_type": "code",
   "execution_count": 50,
   "metadata": {},
   "outputs": [
    {
     "data": {
      "text/html": [
       "<div>\n",
       "<style scoped>\n",
       "    .dataframe tbody tr th:only-of-type {\n",
       "        vertical-align: middle;\n",
       "    }\n",
       "\n",
       "    .dataframe tbody tr th {\n",
       "        vertical-align: top;\n",
       "    }\n",
       "\n",
       "    .dataframe thead th {\n",
       "        text-align: right;\n",
       "    }\n",
       "</style>\n",
       "<table border=\"1\" class=\"dataframe\">\n",
       "  <thead>\n",
       "    <tr style=\"text-align: right;\">\n",
       "      <th></th>\n",
       "      <th>date</th>\n",
       "      <th>sessions</th>\n",
       "    </tr>\n",
       "  </thead>\n",
       "  <tbody>\n",
       "    <tr>\n",
       "      <th>0</th>\n",
       "      <td>1/1/17</td>\n",
       "      <td>88215</td>\n",
       "    </tr>\n",
       "    <tr>\n",
       "      <th>1</th>\n",
       "      <td>1/2/17</td>\n",
       "      <td>88484</td>\n",
       "    </tr>\n",
       "    <tr>\n",
       "      <th>2</th>\n",
       "      <td>1/3/17</td>\n",
       "      <td>87877</td>\n",
       "    </tr>\n",
       "    <tr>\n",
       "      <th>3</th>\n",
       "      <td>1/4/17</td>\n",
       "      <td>86780</td>\n",
       "    </tr>\n",
       "    <tr>\n",
       "      <th>4</th>\n",
       "      <td>1/5/17</td>\n",
       "      <td>84622</td>\n",
       "    </tr>\n",
       "  </tbody>\n",
       "</table>\n",
       "</div>"
      ],
      "text/plain": [
       "     date  sessions\n",
       "0  1/1/17     88215\n",
       "1  1/2/17     88484\n",
       "2  1/3/17     87877\n",
       "3  1/4/17     86780\n",
       "4  1/5/17     84622"
      ]
     },
     "execution_count": 50,
     "metadata": {},
     "output_type": "execute_result"
    }
   ],
   "source": [
    "sessionsDf.head()"
   ]
  },
  {
   "cell_type": "code",
   "execution_count": 54,
   "metadata": {},
   "outputs": [],
   "source": [
    "ser = pd.Series(sessionsDf['sessions'].values, index = sessionsDf['date'])"
   ]
  },
  {
   "cell_type": "code",
   "execution_count": 58,
   "metadata": {},
   "outputs": [
    {
     "data": {
      "image/png": "[encoded data removed]",
      "text/plain": [
       "<matplotlib.figure.Figure at 0x1c8c6796a90>"
      ]
     },
     "metadata": {},
     "output_type": "display_data"
    }
   ],
   "source": [
    "ser.plot()\n",
    "pyplot.show()"
   ]
  },
  {
   "cell_type": "code",
   "execution_count": 60,
   "metadata": {},
   "outputs": [],
   "source": [
    "from statsmodels.tsa.ar_model import AR\n",
    "import sklearn\n",
    "from sklearn.metrics import mean_squared_error\n",
    "import numpy as np"
   ]
  },
  {
   "cell_type": "code",
   "execution_count": 63,
   "metadata": {},
   "outputs": [],
   "source": [
    "def difference(dataset):\n",
    "    diff = list()\n",
    "    for i in range(1, len(dataset)):\n",
    "        value = dataset[i] - dataset[i - 1]\n",
    "        diff.append(value)\n",
    "    return np.array(diff)\n",
    "\n",
    "def predict(coef, history):\n",
    "    yhat = coef[0]\n",
    "    for i in range(1, len(coef)):\n",
    "        yhat += coef[i] * history[-i]\n",
    "    return yhat"
   ]
  },
  {
   "cell_type": "code",
   "execution_count": 90,
   "metadata": {},
   "outputs": [],
   "source": [
    "X = difference(ser.values)\n",
    "size = int(len(X) * 0.66)\n",
    "train, test = X[0:size], X[size:]\n",
    "model = AR(train)\n",
    "model_fit = model.fit(maxlag=15, disp=False)\n",
    "window = model_fit.k_ar\n",
    "coef = model_fit.params"
   ]
  },
  {
   "cell_type": "code",
   "execution_count": 91,
   "metadata": {},
   "outputs": [
    {
     "name": "stdout",
     "output_type": "stream",
     "text": [
      "Test MSE: 826351.595\n"
     ]
    }
   ],
   "source": [
    "history = [train[i] for i in range(len(train))]\n",
    "predictions = list()\n",
    "for t in range(len(test)):\n",
    "\tyhat = predict(coef, history)\n",
    "\tobs = test[t]\n",
    "\tpredictions.append(yhat)\n",
    "\thistory.append(obs)\n",
    "error = mean_squared_error(test, predictions)\n",
    "print('Test MSE: %.3f' % error)"
   ]
  },
  {
   "cell_type": "code",
   "execution_count": 92,
   "metadata": {},
   "outputs": [
    {
     "data": {
      "image/png": "[encoded data removed]",
      "text/plain": [
       "<matplotlib.figure.Figure at 0x1c8c68f0860>"
      ]
     },
     "metadata": {},
     "output_type": "display_data"
    }
   ],
   "source": [
    "pyplot.plot(test)\n",
    "pyplot.plot(predictions, color='red')\n",
    "pyplot.show()"
   ]
  },
  {
   "cell_type": "markdown",
   "metadata": {},
   "source": [
    "## Question Five: Data Analysis\n",
    "\n",
    "The internet startup ShinyFancyObjects is looking to make its IPO in the next couple months.  Before doing so, its founders are presenting their company to potential investors and analysts with the goal of generating a higher company valuation before going public.  As a Data Scientist at one of these investment firms, you have been asked to help evaluate ShinyFancyObjects and determine if it would be a good investment.  \n",
    "\n",
    "You have been provided two resources to help with your analysis; a company fact sheet provided by ShinyFancyObjects, and a table containing data about their customer history.  Using these two pieces of information, determine if this company would be a good long-term investment, and explain why or why not.\n",
    "\n",
    "\n",
    "**ShinyFancyObjects Fact Sheet; The Hottest Startup Since Facebook**\n",
    "\n",
    "* ShinyFancyObjects posses a customer file of nearly twenty thousand unique customers.  \n",
    "* Since its launch in January 2016, ShinyFancyObjects is growing its customer base by 10%.\n",
    "* There was a new feature release in November of 2016, which was a huge hit with our customers, resulting in a 46% increase in new customers from the prior month.  \n",
    "* The company predicts it will more than double its customer base in the next year.  \n",
    "* The January 2017 gain for new customers was a 120% improvement over of January of 2016. \n",
    "* Since January of 2016, ShinyFancyObjects has grown its customer base by 1,841%.\n",
    "* ShinyFancyObjects boasts a customer retention rate of 58%.  \n",
    "\n",
    "**Customer History**\n",
    "\n",
    "This table shows new customers acquired by month, along with how many of those same customers remained active in the following months.  As an example, in January 2016, 1,098 new customers were acquired.  One month later, out of the initial 1,098, only 875 were still active, two months later, 800 were active, and so on.  Whereas in February of 2016, 1,358 new customers were acquired, of which 500 were still active six months after. \n",
    "\n",
    "| Cohort | Month 0 | Month 1  | Month 2 | Month 3 | Month 4 | Month 5 | Month 6 | Month 7 | Month 8 | Month 9 | Month 10 | Month 11 | Month 12 | Month 13 | \n",
    "|--------|---------|----------|---------|---------|---------|---------|---------|---------|---------|---------|----------|----------|----------|----------| \n",
    "| Jan-16 | 1098    | 875      | 800     | 765     | 552     | 421     | 403     | 382     | 367     | 341     | 295      | 244      | 201      | 185      | \n",
    "| Feb-16 | 1358    | 1019     | 996     | 826     | 713     | 524     | 500     | 495     | 389     | 301     | 257      | 178      | 133      |          | \n",
    "| Mar-16 | 1257    | 892      | 741     | 705     | 648     | 498     | 395     | 205     | 168     | 132     | 121      | 84       |          |          | \n",
    "| Apr-16 | 1587    | 1174     | 924     | 838     | 699     | 354     | 205     | 158     | 104     | 79      | 55       |          |          |          | \n",
    "| May-16 | 1758    | 1213     | 1000    | 751     | 605     | 305     | 165     | 111     | 90      | 65      |          |          |          |          | \n",
    "| Jun-16 | 1624    | 1137     | 954     | 754     | 403     | 248     | 205     | 165     | 100     |         |          |          |          |          | \n",
    "| Jul-16 | 1541    | 1002     | 874     | 621     | 322     | 201     | 168     | 105     |         |         |          |          |          |          | \n",
    "| Aug-16 | 868     | 521      | 499     | 400     | 158     | 118     | 75      |         |         |         |          |          |          |          | \n",
    "| Sep-16 | 1143    | 629      | 451     | 384     | 205     | 100     |         |         |         |         |          |          |          |          | \n",
    "| Oct-16 | 1253    | 639      | 338     | 255     | 117     |         |         |         |         |         |          |          |          |          | \n",
    "| Nov-16 | 1835    | 899      | 241     | 107     |         |         |         |         |         |         |          |          |          |          | \n",
    "| Dec-16 | 2155    | 862      | 205     |         |         |         |         |         |         |         |          |          |          |          | \n",
    "| Jan-17 | 2422    | 848      |         |         |         |         |         |         |         |         |          |          |          |          | \n",
    "| Feb-17 | 2531    |          |         |         |         |         |         |         |         |         |          |          |          |          | \n",
    "\n",
    "*Bonus Question:* What other data sources would be helpful in making your recommendation? "
   ]
  }
 ],
 "metadata": {
  "kernelspec": {
   "display_name": "Python 3",
   "language": "python",
   "name": "python3"
  },
  "language_info": {
   "codemirror_mode": {
    "name": "ipython",
    "version": 3
   },
   "file_extension": ".py",
   "mimetype": "text/x-python",
   "name": "python",
   "nbconvert_exporter": "python",
   "pygments_lexer": "ipython3",
   "version": "3.7.0"
  }
 },
 "nbformat": 4,
 "nbformat_minor": 2
}
