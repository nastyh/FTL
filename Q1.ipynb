{
 "cells": [
  {
   "cell_type": "code",
   "execution_count": null,
   "metadata": {},
   "outputs": [],
   "source": [
    "select week(o.time_stamp) as Week_Number, o.store_id, p.cat_name, sum(o.sales) as Total_Sales, sum(o.units) as Total_Quantity_Sold, sum(o.sales * o.units - o.cogs * o.units) as CoGS from \n",
    "dev.Order_Detail o \n",
    "join dev.Product_Detail p on o.product = p.product\n",
    "group by week(o.time_stamp), o.store_id, p.cat_name\n",
    "order by week(o.time_stamp), o.store_id \n"
   ]
  }
 ],
 "metadata": {
  "kernelspec": {
   "display_name": "Python 3",
   "language": "python",
   "name": "python3"
  },
  "language_info": {
   "codemirror_mode": {
    "name": "ipython",
    "version": 3
   },
   "file_extension": ".py",
   "mimetype": "text/x-python",
   "name": "python",
   "nbconvert_exporter": "python",
   "pygments_lexer": "ipython3",
   "version": "3.6.4"
  }
 },
 "nbformat": 4,
 "nbformat_minor": 2
}
