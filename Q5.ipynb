{
 "cells": [
  {
   "cell_type": "markdown",
   "metadata": {},
   "source": [
    "## Question Five: Data Analysis\n",
    "\n",
    "The internet startup ShinyFancyObjects is looking to make its IPO in the next couple months.  Before doing so, its founders are presenting their company to potential investors and analysts with the goal of generating a higher company valuation before going public.  As a Data Scientist at one of these investment firms, you have been asked to help evaluate ShinyFancyObjects and determine if it would be a good investment.  \n",
    "\n",
    "You have been provided two resources to help with your analysis; a company fact sheet provided by ShinyFancyObjects, and a table containing data about their customer history.  Using these two pieces of information, determine if this company would be a good long-term investment, and explain why or why not.\n",
    "\n",
    "\n",
    "**ShinyFancyObjects Fact Sheet; The Hottest Startup Since Facebook**\n",
    "\n",
    "* ShinyFancyObjects posses a customer file of nearly twenty thousand unique customers.  \n",
    "* Since its launch in January 2016, ShinyFancyObjects is growing its customer base by 10%.\n",
    "* There was a new feature release in November of 2016, which was a huge hit with our customers, resulting in a 46% increase in new customers from the prior month.  \n",
    "* The company predicts it will more than double its customer base in the next year.  \n",
    "* The January 2017 gain for new customers was a 120% improvement over of January of 2016. \n",
    "* Since January of 2016, ShinyFancyObjects has grown its customer base by 1,841%.\n",
    "* ShinyFancyObjects boasts a customer retention rate of 58%.  \n",
    "\n",
    "**Customer History**\n",
    "\n",
    "This table shows new customers acquired by month, along with how many of those same customers remained active in the following months.  As an example, in January 2016, 1,098 new customers were acquired.  One month later, out of the initial 1,098, only 875 were still active, two months later, 800 were active, and so on.  Whereas in February of 2016, 1,358 new customers were acquired, of which 500 were still active six months after. \n",
    "\n",
    "| Cohort | Month 0 | Month 1  | Month 2 | Month 3 | Month 4 | Month 5 | Month 6 | Month 7 | Month 8 | Month 9 | Month 10 | Month 11 | Month 12 | Month 13 | \n",
    "|--------|---------|----------|---------|---------|---------|---------|---------|---------|---------|---------|----------|----------|----------|----------| \n",
    "| Jan-16 | 1098    | 875      | 800     | 765     | 552     | 421     | 403     | 382     | 367     | 341     | 295      | 244      | 201      | 185      | \n",
    "| Feb-16 | 1358    | 1019     | 996     | 826     | 713     | 524     | 500     | 495     | 389     | 301     | 257      | 178      | 133      |          | \n",
    "| Mar-16 | 1257    | 892      | 741     | 705     | 648     | 498     | 395     | 205     | 168     | 132     | 121      | 84       |          |          | \n",
    "| Apr-16 | 1587    | 1174     | 924     | 838     | 699     | 354     | 205     | 158     | 104     | 79      | 55       |          |          |          | \n",
    "| May-16 | 1758    | 1213     | 1000    | 751     | 605     | 305     | 165     | 111     | 90      | 65      |          |          |          |          | \n",
    "| Jun-16 | 1624    | 1137     | 954     | 754     | 403     | 248     | 205     | 165     | 100     |         |          |          |          |          | \n",
    "| Jul-16 | 1541    | 1002     | 874     | 621     | 322     | 201     | 168     | 105     |         |         |          |          |          |          | \n",
    "| Aug-16 | 868     | 521      | 499     | 400     | 158     | 118     | 75      |         |         |         |          |          |          |          | \n",
    "| Sep-16 | 1143    | 629      | 451     | 384     | 205     | 100     |         |         |         |         |          |          |          |          | \n",
    "| Oct-16 | 1253    | 639      | 338     | 255     | 117     |         |         |         |         |         |          |          |          |          | \n",
    "| Nov-16 | 1835    | 899      | 241     | 107     |         |         |         |         |         |         |          |          |          |          | \n",
    "| Dec-16 | 2155    | 862      | 205     |         |         |         |         |         |         |         |          |          |          |          | \n",
    "| Jan-17 | 2422    | 848      |         |         |         |         |         |         |         |         |          |          |          |          | \n",
    "| Feb-17 | 2531    |          |         |         |         |         |         |         |         |         |          |          |          |          | \n",
    "\n",
    "*Bonus Question:* What other data sources would be helpful in making your recommendation? "
   ]
  }
 ],
 "metadata": {
  "kernelspec": {
   "display_name": "Python 3",
   "language": "python",
   "name": "python3"
  },
  "language_info": {
   "codemirror_mode": {
    "name": "ipython",
    "version": 3
   },
   "file_extension": ".py",
   "mimetype": "text/x-python",
   "name": "python",
   "nbconvert_exporter": "python",
   "pygments_lexer": "ipython3",
   "version": "3.7.0"
  }
 },
 "nbformat": 4,
 "nbformat_minor": 2
}
