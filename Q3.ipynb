{
 "cells": [
  {
   "cell_type": "code",
   "execution_count": 17,
   "metadata": {},
   "outputs": [],
   "source": [
    "from scipy import stats\n",
    "import numpy as np\n",
    "np.random.seed(12345678)\n",
    "import statsmodels.api as sm"
   ]
  },
  {
   "cell_type": "code",
   "execution_count": 3,
   "metadata": {},
   "outputs": [
    {
     "data": {
      "text/plain": [
       "Ttest_indResult(statistic=0.26833823296238857, pvalue=0.7884945274950106)"
      ]
     },
     "execution_count": 3,
     "metadata": {},
     "output_type": "execute_result"
    }
   ],
   "source": [
    "rvs1 = stats.norm.rvs(loc=5,scale=10,size=500)\n",
    "rvs2 = stats.norm.rvs(loc=5,scale=10,size=500)\n",
    "stats.ttest_ind(rvs1,rvs2)\n",
    "stats.ttest_ind(rvs1,rvs2, equal_var = False)\n"
   ]
  },
  {
   "cell_type": "code",
   "execution_count": null,
   "metadata": {},
   "outputs": [],
   "source": [
    "## Question Three: Hypothesis Testing\n",
    "This question will test your statistical and reasoning abilities.  You have been asked to analyze the results of a randomized, controlled experiment on a fictitious website and provide a recommendation.  For this experiment, each visitor to the site is randomly exposed to one of four different product images; visitors are then tracked to see which ones make a purchase or not.  Based on the data provided, which version of the image should be selected to be presented to all visitors and why?\n",
    "\n",
    "| image | visitors | purchases \n",
    "|----------|-----------|----------|\n",
    "| A        | 21        | 3        | \n",
    "| B        | 180       | 30       | \n",
    "| C        | 250       | 50       | \n",
    "| D        | 100       | 15       | \n",
    "\n",
    "*Bonus Question:* How would your analysis change if the visitors and purchase counts numbered in the millions? "
   ]
  },
  {
   "cell_type": "code",
   "execution_count": null,
   "metadata": {},
   "outputs": [],
   "source": [
    "\"\"\"Certain assumptions are required for answering this question.\n",
    "1) Define a KPI to measure. In this case, it will be a conversion rate calculated as purchases divided by visitors\n",
    "2) It is not clear whether the provided numbers are for the whole population or are a sample proportion.\n",
    "If former, it's definitely not enough data to sample sample means. It can be probably handled by bootstrap, but it's a\n",
    "different story. If latter, we can work with it\n",
    "3) We make assumption about normality of the distribution, homoscedasticity, independency of observations\n",
    "4) That said, comparing more than two proportions at a time is tricky in Python but can be easily implemented in R.\n",
    "\n",
    "\"\"\""
   ]
  },
  {
   "cell_type": "markdown",
   "metadata": {},
   "source": [
    "#### Here comes the R code\n",
    "purchases <- c(3,30,50,15)\n",
    "\n",
    "visitors <- c(21, 180, 250, 100)\n",
    "\n",
    "pp <- prop.test(purchases, visitors, conf.level = 0.95)\n",
    "\n",
    "The output is:\n",
    "\n",
    "data:  purchases out of visitors\n",
    "\n",
    "X-squared = 1.6991, df = 3, p-value = 0.6371\n",
    "\n",
    "alternative hypothesis: two.sided\n",
    "\n",
    "sample estimates:\n",
    "   prop 1    prop 2    prop 3    prop 4 \n",
    "   \n",
    "0.1428571 0.1666667 0.2000000 0.1500000"
   ]
  },
  {
   "cell_type": "code",
   "execution_count": null,
   "metadata": {},
   "outputs": [],
   "source": [
    "\"\"\"\n",
    "As you can see, the p-value doesn't allow us to make any conclusion about the provided dataset. \n",
    "If we had more data, \"millions of visitors and purchase metrics,\" we could sample sample means, take advantage of the centra \n",
    "limit theorem and an ANOVA test. Alternatively, one can compare images one to another to double check his or her work:\n",
    "A-B, A-C, A-D, B-C, B-D, C-D\n",
    "Using A-B as an example: \n",
    "H0: Pa-Pb = 0\n",
    "H1: Pa-Pb <> 0\n",
    "Mean is Pa-Pb\n",
    "sigma squared is [Pa*(1-Pa)]/Na - [Pb*(1-Pb)]/Nb\n",
    "Solve for any confidence interval you want, reject or fail to reject H0\n",
    "\"\"\""
   ]
  },
  {
   "cell_type": "code",
   "execution_count": 2,
   "metadata": {},
   "outputs": [],
   "source": [
    "import pandas as pd\n",
    "import numpy as np\n",
    "import scipy\n",
    "from scipy import stats"
   ]
  },
  {
   "cell_type": "code",
   "execution_count": 3,
   "metadata": {},
   "outputs": [],
   "source": [
    "tableA = [('A', 21,3),\n",
    "         ('B', 180, 30),\n",
    "         ('C', 250, 50),\n",
    "         ('D',100,15)]\n",
    "labels = ['image', 'visitors','purchases']\n",
    "dfA = pd.DataFrame.from_records(tableA, columns=labels)"
   ]
  },
  {
   "cell_type": "code",
   "execution_count": 5,
   "metadata": {},
   "outputs": [],
   "source": [
    "dfA['conversion'] = dfA['purchases']/dfA['visitors']\n",
    "dfA.style.format({'conversion': \"{:.2%}\"})\n",
    "dfA.style.hide_index()"
   ]
  },
  {
   "cell_type": "code",
   "execution_count": 18,
   "metadata": {},
   "outputs": [],
   "source": [
    "from statsmodels.stats.proportion import proportions_ztest"
   ]
  },
  {
   "cell_type": "code",
   "execution_count": null,
   "metadata": {},
   "outputs": [],
   "source": [
    "stats.chi2_contingency(dfA.iloc[:,1:2])"
   ]
  },
  {
   "cell_type": "code",
   "execution_count": null,
   "metadata": {},
   "outputs": [],
   "source": [
    "chi2_stat, p_val, dof, ex = stats.chi2_contingency(dfA.iloc[:,1:2])\n",
    "print(\"===Chi2 Stat===\")\n",
    "print(chi2_stat)\n",
    "print(\"\\n\")\n",
    "print(\"===Degrees of Freedom===\")\n",
    "print(dof)\n",
    "print(\"\\n\")\n",
    "print(\"===P-Value===\")\n",
    "print(p_val)\n",
    "print(\"\\n\")\n",
    "print(\"===Contingency Table===\")\n",
    "print(ex)"
   ]
  },
  {
   "cell_type": "code",
   "execution_count": null,
   "metadata": {},
   "outputs": [],
   "source": [
    "count = dfA['purchases']\n",
    "nobs = dfA['visitors']\n",
    "stat, pval = proportions_ztest(count, nobs)\n",
    "print('{0:0.3f}'.format(pval))"
   ]
  },
  {
   "cell_type": "code",
   "execution_count": null,
   "metadata": {},
   "outputs": [],
   "source": [
    "\"\"\"\n",
    "https://www.statsmodels.org/dev/generated/statsmodels.stats.proportion.proportions_ztest.html\n",
    "https://www.khanacademy.org/math/statistics-probability/significance-tests-confidence-intervals-two-samples/comparing-two-proportions/v/comparing-population-proportions-1\n",
    "\"\"\""
   ]
  }
 ],
 "metadata": {
  "kernelspec": {
   "display_name": "Python 3",
   "language": "python",
   "name": "python3"
  },
  "language_info": {
   "codemirror_mode": {
    "name": "ipython",
    "version": 3
   },
   "file_extension": ".py",
   "mimetype": "text/x-python",
   "name": "python",
   "nbconvert_exporter": "python",
   "pygments_lexer": "ipython3",
   "version": "3.7.0"
  }
 },
 "nbformat": 4,
 "nbformat_minor": 2
}
